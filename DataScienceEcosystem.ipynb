{
 "cells": [
  {
   "cell_type": "markdown",
   "id": "03ea080b-7f87-4021-bac1-86b40860f774",
   "metadata": {},
   "source": [
    "#  Data Science Tools and Ecosystem"
   ]
  },
  {
   "cell_type": "markdown",
   "id": "a1cf6753-944f-48c7-bd70-4128448d69d6",
   "metadata": {},
   "source": [
    "In this notebook, Data Science Tools and Ecosystem are summarized."
   ]
  },
  {
   "cell_type": "markdown",
   "id": "cf382a6d-5e38-4e0d-8a9d-85310ef64b05",
   "metadata": {},
   "source": [
    "**Objectives:**\n",
    "- Python\n",
    "- R\n",
    "- SQL"
   ]
  },
  {
   "cell_type": "markdown",
   "id": "6f435456-b9e4-4cd7-8e59-c1bd6104f889",
   "metadata": {},
   "source": [
    "Some of the popular languages that Data Scientists use are:\n",
    "1. Python\n",
    "2. R\n",
    "3. SQL\n",
    "4. Julia"
   ]
  },
  {
   "cell_type": "markdown",
   "id": "c5b432a7-5833-4d68-9239-9e7371758a6c",
   "metadata": {},
   "source": [
    "Some of the commonly used libraries used by Data Scientists include:\n",
    "1. Numpy\n",
    "2. Pandas\n",
    "3. Scikit Learn\n",
    "4. Keras"
   ]
  },
  {
   "cell_type": "markdown",
   "id": "0559509e-d6dc-4225-8547-faccbbbab36e",
   "metadata": {},
   "source": [
    "| Data Science Tools.|\n",
    "|--------------------|\n",
    "|mysql|\n",
    "|jupyter notebook|\n",
    "|R studio|"
   ]
  },
  {
   "cell_type": "markdown",
   "id": "5115e8dd-1cb1-4ae5-a4bd-9e2ffb961ae7",
   "metadata": {},
   "source": [
    "### Below are a few examples of evaluating arithmetic expressions in Python."
   ]
  },
  {
   "cell_type": "code",
   "execution_count": 1,
   "id": "05431184-57f9-4854-934b-68c04692e835",
   "metadata": {},
   "outputs": [
    {
     "data": {
      "text/plain": [
       "17"
      ]
     },
     "execution_count": 1,
     "metadata": {},
     "output_type": "execute_result"
    }
   ],
   "source": [
    "# This a simple arithmetic expression to mutiply then add integers.\n",
    "(3*4)+5"
   ]
  },
  {
   "cell_type": "code",
   "execution_count": 2,
   "id": "e347bd82-da1f-4ebe-93f9-bc06f6e102aa",
   "metadata": {},
   "outputs": [
    {
     "data": {
      "text/plain": [
       "3.3333333333333335"
      ]
     },
     "execution_count": 2,
     "metadata": {},
     "output_type": "execute_result"
    }
   ],
   "source": [
    "# This will convert 200 minutes to hours by diving by 60\n",
    "200/60"
   ]
  },
  {
   "cell_type": "markdown",
   "id": "a1bb96ee-1937-4d75-9fd1-26b2683503b3",
   "metadata": {},
   "source": [
    "## Author\n",
    "Shivasharanu"
   ]
  },
  {
   "cell_type": "code",
   "execution_count": null,
   "id": "3e115a72-6062-4430-807c-dd452ec3ee1e",
   "metadata": {},
   "outputs": [],
   "source": []
  }
 ],
 "metadata": {
  "kernelspec": {
   "display_name": "Python [conda env:base] *",
   "language": "python",
   "name": "conda-base-py"
  },
  "language_info": {
   "codemirror_mode": {
    "name": "ipython",
    "version": 3
   },
   "file_extension": ".py",
   "mimetype": "text/x-python",
   "name": "python",
   "nbconvert_exporter": "python",
   "pygments_lexer": "ipython3",
   "version": "3.12.7"
  }
 },
 "nbformat": 4,
 "nbformat_minor": 5
}
